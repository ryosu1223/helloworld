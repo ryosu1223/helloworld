{
  "nbformat": 4,
  "nbformat_minor": 0,
  "metadata": {
    "colab": {
      "name": "helloworld_20200000.ipynb",
      "provenance": [],
      "authorship_tag": "ABX9TyPVpifpkd0HwPg+ZM/Fueh4",
      "include_colab_link": true
    },
    "kernelspec": {
      "name": "python3",
      "display_name": "Python 3"
    }
  },
  "cells": [
    {
      "cell_type": "markdown",
      "metadata": {
        "id": "view-in-github",
        "colab_type": "text"
      },
      "source": [
        "<a href=\"https://colab.research.google.com/github/ryosu1223/helloworld/blob/main/helloworld_20200000.ipynb\" target=\"_parent\"><img src=\"https://colab.research.google.com/assets/colab-badge.svg\" alt=\"Open In Colab\"/></a>"
      ]
    },
    {
      "cell_type": "code",
      "metadata": {
        "id": "1-quiyDjlXwl",
        "outputId": "ca2d3c52-c904-4ebd-b278-53badc55136d",
        "colab": {
          "base_uri": "https://localhost:8080/",
          "height": 51
        }
      },
      "source": [
        "print('helloworld', 20200000)\n",
        "print(1 + 1)"
      ],
      "execution_count": 4,
      "outputs": [
        {
          "output_type": "stream",
          "text": [
            "helloworld 20200000\n",
            "2\n"
          ],
          "name": "stdout"
        }
      ]
    }
  ]
}